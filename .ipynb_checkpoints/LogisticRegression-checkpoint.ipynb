{
 "cells": [
  {
   "cell_type": "markdown",
   "metadata": {
    "colab_type": "text",
    "id": "zV2HCz_RGaO_"
   },
   "source": [
    "Imports\n"
   ]
  },
  {
   "cell_type": "code",
   "execution_count": 3,
   "metadata": {
    "colab": {},
    "colab_type": "code",
    "executionInfo": {
     "elapsed": 1239,
     "status": "ok",
     "timestamp": 1597939136679,
     "user": {
      "displayName": "Mathew Malicdan",
      "photoUrl": "",
      "userId": "03905792156096159022"
     },
     "user_tz": 240
    },
    "id": "PpLQFPThGKYl"
   },
   "outputs": [],
   "source": [
    "import numpy as np\n",
    "import matplotlib.pyplot as plt\n",
    "from matplotlib.colors import ListedColormap\n",
    "from sklearn import linear_model, datasets\n",
    "from sklearn.model_selection import train_test_split\n",
    "from sklearn.preprocessing import scale\n",
    "from sklearn.model_selection import train_test_split"
   ]
  },
  {
   "cell_type": "markdown",
   "metadata": {
    "colab_type": "text",
    "id": "5rQ_43vXGdaS"
   },
   "source": [
    "Logistic Regression"
   ]
  },
  {
   "cell_type": "code",
   "execution_count": 4,
   "metadata": {
    "colab": {},
    "colab_type": "code",
    "executionInfo": {
     "elapsed": 332,
     "status": "ok",
     "timestamp": 1597939225522,
     "user": {
      "displayName": "Mathew Malicdan",
      "photoUrl": "",
      "userId": "03905792156096159022"
     },
     "user_tz": 240
    },
    "id": "hXkKqycNGglf"
   },
   "outputs": [],
   "source": [
    "def sigmoid(theta, X):\n",
    "  assert theta.shape[1] == 1, \"theta dimensions are %s\" % (theta.shape,)\n",
    "  assert theta.shape[0] == X.shape[1], \"theta dimensions are %d, X dimensions are %d\" % (theta.shape[0], X.shape[1]) \n",
    "  return 1.0/(1.0 + np.exp(-np.dot(X, theta)))\n",
    "\n",
    "def cost(theta, X, y):\n",
    "  assert theta.shape[1] == 1\n",
    "  assert theta.shape[0] == X.shape[1]\n",
    "  assert y.shape[1] == 1\n",
    "  assert y.shape[0] == X.shape[0]\n",
    "  # SUM = (-y * np.log(sigmoid(theta, X))) - ((1 - y) * np.log(1 - sigmoid(theta, X)))\n",
    "  hypothesis = sigmoid(theta, X)\n",
    "  pos = -(y * np.log(hypothesis, dtype=np.float128))\n",
    "  neg = (1 - y) * np.log(1 - hypothesis, dtype=np.float128)\n",
    "  # print(neg)\n",
    "  SUM = pos - neg\n",
    "  return np.sum(SUM, axis=0)/X.shape[0]\n",
    "\n",
    "def compute_gradient(theta, X, y):\n",
    "  hypothesis = sigmoid(theta, X)\n",
    "  return np.dot(X.T, hypothesis - y)/X.shape[0]\n",
    "\n",
    "def classify(X, w):\n",
    "  H = sigmoid(w, X)\n",
    "  def logit(h):\n",
    "    return 1 if h >= 0.5 else 0\n",
    "  return np.vectorize(logit)(H)\n",
    "\n",
    "def update_step(prev_cost, curr_cost, step_size):\n",
    "  return (step_size * 1.1 if curr_cost <= prev_cost else step_size * 0.5)\n",
    "\n",
    "def gradient_descent(X, y, learning_rate=25, tolerance=1.0e-8, max_iterations=1000):\n",
    "  w = np.random.rand(X.shape[1],1)\n",
    "  # print(sigmoid(theta, X[:1]))\n",
    "  cost_history = []\n",
    "  i = 1\n",
    "  cost_history.append(cost(w, X, y))\n",
    "  delta_cost = cost_history[0]\n",
    "  while delta_cost > tolerance and i < max_iterations:\n",
    "    w = w - learning_rate * compute_gradient(w, X, y)   \n",
    "    cost_history.append(cost(w, X, y))\n",
    "    delta_cost = np.absolute(cost_history[i-1] - cost_history[i])\n",
    "    learning_rate = update_step(cost_history[i-1], cost_history[i], learning_rate)\n",
    "    i += 1\n",
    "\n",
    "  print(\"Completed in \" + str(i) + \" iterations.\\n\")\n",
    "  return w, cost_history\n",
    "\n",
    "def score(y, y_gt):\n",
    "    assert len(y) ==  len(y_gt), \"y is %s, y_gt is %s\" % (y.shape[0], y_gt.shape[0])\n",
    "    return np.sum(y == y_gt)/float(len(y))\n"
   ]
  },
  {
   "cell_type": "markdown",
   "metadata": {
    "colab_type": "text",
    "id": "2tQtHRet4DnN"
   },
   "source": [
    "Debug Tools"
   ]
  },
  {
   "cell_type": "code",
   "execution_count": 5,
   "metadata": {
    "colab": {},
    "colab_type": "code",
    "executionInfo": {
     "elapsed": 535,
     "status": "ok",
     "timestamp": 1597939146345,
     "user": {
      "displayName": "Mathew Malicdan",
      "photoUrl": "",
      "userId": "03905792156096159022"
     },
     "user_tz": 240
    },
    "id": "QxtNz4kf4Fi7"
   },
   "outputs": [],
   "source": [
    "def draw_result_binary(X_train, X_test, y_train, y_test, w):\n",
    "    h = .02\n",
    "    X = np.vstack([X_train, X_test])\n",
    "    x_min, x_max = X[:, 0].min() - .5, X[:, 0].max() + .5\n",
    "    y_min, y_max = X[:, 1].min() - .5, X[:, 1].max() + .5\n",
    "    xx, yy = np.meshgrid(np.arange(x_min, x_max, h), \n",
    "                         np.arange(y_min, y_max, h))\n",
    "\n",
    "    cm = plt.cm.RdBu\n",
    "    cm_bright = ListedColormap(['#FF0000', '#0000FF'])\n",
    "    # Plot the training and testing points\n",
    "    plt.scatter(X_train[:, 0], X_train[:, 1], c=y_train.ravel(), cmap=cm_bright, edgecolors='k', label='Training Data')\n",
    "    plt.scatter(X_test[:, 0], X_test[:, 1], c=y_test.ravel(), cmap=cm_bright, edgecolors='k', marker='x', linewidth = 3, label='Test Data')\n",
    "\n",
    "    # Plot decision boundary\n",
    "    tmpX = np.c_[xx.ravel(), yy.ravel()]\n",
    "    tmpX_extended = np.hstack([tmpX, np.ones([tmpX.shape[0], 1])])\n",
    "    Z = classify(tmpX_extended, w)\n",
    "    Z = Z.reshape(xx.shape)\n",
    "\n",
    "    plt.pcolormesh(xx, yy, Z, cmap=plt.cm.RdBu, alpha = .4)\n",
    "    plt.xlim(xx.min(), xx.max())\n",
    "    plt.ylim(yy.min(), yy.max())\n",
    "    plt.xticks(())\n",
    "    plt.yticks(())\n",
    "    plt.legend()\n",
    "    y_predict = classify(X_test, w)\n",
    "    s = score(y_predict, y_test)\n",
    "    plt.text(xx.max() - .3, yy.min() + .3, ('Score = %.2f' % s).lstrip('0'), size=15, horizontalalignment='right')\n",
    "    plt.show()"
   ]
  },
  {
   "cell_type": "markdown",
   "metadata": {
    "colab_type": "text",
    "id": "IyMywaiBGg_o"
   },
   "source": [
    "Driver"
   ]
  },
  {
   "cell_type": "code",
   "execution_count": 6,
   "metadata": {
    "colab": {},
    "colab_type": "code",
    "executionInfo": {
     "elapsed": 326,
     "status": "ok",
     "timestamp": 1597939149377,
     "user": {
      "displayName": "Mathew Malicdan",
      "photoUrl": "",
      "userId": "03905792156096159022"
     },
     "user_tz": 240
    },
    "id": "VVJsrDkOGjc2"
   },
   "outputs": [],
   "source": [
    "# X, y = datasets.make_classification(n_features=2, n_redundant=0, n_informative=2, n_classes=2, random_state=1, n_clusters_per_class=1)\n",
    "# X, y = datasets.make_circles(noise=0.2, factor=0.5, random_state=1)\n",
    "# X, y = datasets.make_moons(noise=0.3, random_state=0)\n",
    "skl = datasets.load_breast_cancer()\n",
    "X = skl.data\n",
    "y = skl.target\n",
    "rng = np.random.RandomState(4)\n",
    "# onesies = np.ones((X.shape[0],1))\n",
    "# X = np.hstack((X, onesies))\n",
    "# X += 0 * rng.uniform(size=X.shape)\n",
    "X_train, X_test, y_train, y_test = train_test_split(X, y, test_size=0.5, random_state=42)\n",
    "y_train = y_train[:,None]\n",
    "y_test = y_test[:,None]\n",
    "\n",
    "# w = np.random.rand(X_train.shape[1],1)"
   ]
  },
  {
   "cell_type": "code",
   "execution_count": 7,
   "metadata": {
    "colab": {
     "base_uri": "https://localhost:8080/",
     "height": 142
    },
    "colab_type": "code",
    "executionInfo": {
     "elapsed": 392,
     "status": "ok",
     "timestamp": 1597939229026,
     "user": {
      "displayName": "Mathew Malicdan",
      "photoUrl": "",
      "userId": "03905792156096159022"
     },
     "user_tz": 240
    },
    "id": "oGZNA7CTWdPN",
    "outputId": "cbded426-818d-41c2-883d-17a3030ada94"
   },
   "outputs": [
    {
     "ename": "AttributeError",
     "evalue": "module 'numpy' has no attribute 'float128'",
     "output_type": "error",
     "traceback": [
      "\u001b[1;31m---------------------------------------------------------------------------\u001b[0m",
      "\u001b[1;31mAttributeError\u001b[0m                            Traceback (most recent call last)",
      "\u001b[1;32m<ipython-input-7-384313a59a68>\u001b[0m in \u001b[0;36m<module>\u001b[1;34m\u001b[0m\n\u001b[1;32m----> 1\u001b[1;33m \u001b[0mtheta\u001b[0m\u001b[1;33m,\u001b[0m \u001b[0mcost_history\u001b[0m \u001b[1;33m=\u001b[0m \u001b[0mgradient_descent\u001b[0m\u001b[1;33m(\u001b[0m\u001b[0mX_train\u001b[0m\u001b[1;33m,\u001b[0m \u001b[0my_train\u001b[0m\u001b[1;33m)\u001b[0m\u001b[1;33m\u001b[0m\u001b[1;33m\u001b[0m\u001b[0m\n\u001b[0m\u001b[0;32m      2\u001b[0m \u001b[0my_predict\u001b[0m \u001b[1;33m=\u001b[0m \u001b[0mclassify\u001b[0m\u001b[1;33m(\u001b[0m\u001b[0mX_test\u001b[0m\u001b[1;33m,\u001b[0m \u001b[0mtheta\u001b[0m\u001b[1;33m)\u001b[0m\u001b[1;33m\u001b[0m\u001b[1;33m\u001b[0m\u001b[0m\n\u001b[0;32m      3\u001b[0m \u001b[0ms\u001b[0m \u001b[1;33m=\u001b[0m \u001b[0mscore\u001b[0m\u001b[1;33m(\u001b[0m\u001b[0my_predict\u001b[0m\u001b[1;33m,\u001b[0m \u001b[0my_test\u001b[0m\u001b[1;33m)\u001b[0m\u001b[1;33m\u001b[0m\u001b[1;33m\u001b[0m\u001b[0m\n\u001b[0;32m      4\u001b[0m \u001b[0mprint\u001b[0m\u001b[1;33m(\u001b[0m\u001b[0ms\u001b[0m\u001b[1;33m)\u001b[0m\u001b[1;33m\u001b[0m\u001b[1;33m\u001b[0m\u001b[0m\n\u001b[0;32m      5\u001b[0m \u001b[1;31m# draw_result_binary(X_train, X_test, y_train, y_test, theta)\u001b[0m\u001b[1;33m\u001b[0m\u001b[1;33m\u001b[0m\u001b[1;33m\u001b[0m\u001b[0m\n",
      "\u001b[1;32m<ipython-input-4-58d5f77b83be>\u001b[0m in \u001b[0;36mgradient_descent\u001b[1;34m(X, y, learning_rate, tolerance, max_iterations)\u001b[0m\n\u001b[0;32m     35\u001b[0m   \u001b[0mcost_history\u001b[0m \u001b[1;33m=\u001b[0m \u001b[1;33m[\u001b[0m\u001b[1;33m]\u001b[0m\u001b[1;33m\u001b[0m\u001b[1;33m\u001b[0m\u001b[0m\n\u001b[0;32m     36\u001b[0m   \u001b[0mi\u001b[0m \u001b[1;33m=\u001b[0m \u001b[1;36m1\u001b[0m\u001b[1;33m\u001b[0m\u001b[1;33m\u001b[0m\u001b[0m\n\u001b[1;32m---> 37\u001b[1;33m   \u001b[0mcost_history\u001b[0m\u001b[1;33m.\u001b[0m\u001b[0mappend\u001b[0m\u001b[1;33m(\u001b[0m\u001b[0mcost\u001b[0m\u001b[1;33m(\u001b[0m\u001b[0mw\u001b[0m\u001b[1;33m,\u001b[0m \u001b[0mX\u001b[0m\u001b[1;33m,\u001b[0m \u001b[0my\u001b[0m\u001b[1;33m)\u001b[0m\u001b[1;33m)\u001b[0m\u001b[1;33m\u001b[0m\u001b[1;33m\u001b[0m\u001b[0m\n\u001b[0m\u001b[0;32m     38\u001b[0m   \u001b[0mdelta_cost\u001b[0m \u001b[1;33m=\u001b[0m \u001b[0mcost_history\u001b[0m\u001b[1;33m[\u001b[0m\u001b[1;36m0\u001b[0m\u001b[1;33m]\u001b[0m\u001b[1;33m\u001b[0m\u001b[1;33m\u001b[0m\u001b[0m\n\u001b[0;32m     39\u001b[0m   \u001b[1;32mwhile\u001b[0m \u001b[0mdelta_cost\u001b[0m \u001b[1;33m>\u001b[0m \u001b[0mtolerance\u001b[0m \u001b[1;32mand\u001b[0m \u001b[0mi\u001b[0m \u001b[1;33m<\u001b[0m \u001b[0mmax_iterations\u001b[0m\u001b[1;33m:\u001b[0m\u001b[1;33m\u001b[0m\u001b[1;33m\u001b[0m\u001b[0m\n",
      "\u001b[1;32m<ipython-input-4-58d5f77b83be>\u001b[0m in \u001b[0;36mcost\u001b[1;34m(theta, X, y)\u001b[0m\n\u001b[0;32m     11\u001b[0m   \u001b[1;31m# SUM = (-y * np.log(sigmoid(theta, X))) - ((1 - y) * np.log(1 - sigmoid(theta, X)))\u001b[0m\u001b[1;33m\u001b[0m\u001b[1;33m\u001b[0m\u001b[1;33m\u001b[0m\u001b[0m\n\u001b[0;32m     12\u001b[0m   \u001b[0mhypothesis\u001b[0m \u001b[1;33m=\u001b[0m \u001b[0msigmoid\u001b[0m\u001b[1;33m(\u001b[0m\u001b[0mtheta\u001b[0m\u001b[1;33m,\u001b[0m \u001b[0mX\u001b[0m\u001b[1;33m)\u001b[0m\u001b[1;33m\u001b[0m\u001b[1;33m\u001b[0m\u001b[0m\n\u001b[1;32m---> 13\u001b[1;33m   \u001b[0mpos\u001b[0m \u001b[1;33m=\u001b[0m \u001b[1;33m-\u001b[0m\u001b[1;33m(\u001b[0m\u001b[0my\u001b[0m \u001b[1;33m*\u001b[0m \u001b[0mnp\u001b[0m\u001b[1;33m.\u001b[0m\u001b[0mlog\u001b[0m\u001b[1;33m(\u001b[0m\u001b[0mhypothesis\u001b[0m\u001b[1;33m,\u001b[0m \u001b[0mdtype\u001b[0m\u001b[1;33m=\u001b[0m\u001b[0mnp\u001b[0m\u001b[1;33m.\u001b[0m\u001b[0mfloat128\u001b[0m\u001b[1;33m)\u001b[0m\u001b[1;33m)\u001b[0m\u001b[1;33m\u001b[0m\u001b[1;33m\u001b[0m\u001b[0m\n\u001b[0m\u001b[0;32m     14\u001b[0m   \u001b[0mneg\u001b[0m \u001b[1;33m=\u001b[0m \u001b[1;33m(\u001b[0m\u001b[1;36m1\u001b[0m \u001b[1;33m-\u001b[0m \u001b[0my\u001b[0m\u001b[1;33m)\u001b[0m \u001b[1;33m*\u001b[0m \u001b[0mnp\u001b[0m\u001b[1;33m.\u001b[0m\u001b[0mlog\u001b[0m\u001b[1;33m(\u001b[0m\u001b[1;36m1\u001b[0m \u001b[1;33m-\u001b[0m \u001b[0mhypothesis\u001b[0m\u001b[1;33m,\u001b[0m \u001b[0mdtype\u001b[0m\u001b[1;33m=\u001b[0m\u001b[0mnp\u001b[0m\u001b[1;33m.\u001b[0m\u001b[0mfloat128\u001b[0m\u001b[1;33m)\u001b[0m\u001b[1;33m\u001b[0m\u001b[1;33m\u001b[0m\u001b[0m\n\u001b[0;32m     15\u001b[0m   \u001b[1;31m# print(neg)\u001b[0m\u001b[1;33m\u001b[0m\u001b[1;33m\u001b[0m\u001b[1;33m\u001b[0m\u001b[0m\n",
      "\u001b[1;32mc:\\users\\malic\\appdata\\local\\programs\\python\\python39-32\\lib\\site-packages\\numpy\\__init__.py\u001b[0m in \u001b[0;36m__getattr__\u001b[1;34m(attr)\u001b[0m\n\u001b[0;32m    212\u001b[0m                 \u001b[1;32mreturn\u001b[0m \u001b[0mTester\u001b[0m\u001b[1;33m\u001b[0m\u001b[1;33m\u001b[0m\u001b[0m\n\u001b[0;32m    213\u001b[0m             \u001b[1;32melse\u001b[0m\u001b[1;33m:\u001b[0m\u001b[1;33m\u001b[0m\u001b[1;33m\u001b[0m\u001b[0m\n\u001b[1;32m--> 214\u001b[1;33m                 raise AttributeError(\"module {!r} has no attribute \"\n\u001b[0m\u001b[0;32m    215\u001b[0m                                      \"{!r}\".format(__name__, attr))\n\u001b[0;32m    216\u001b[0m \u001b[1;33m\u001b[0m\u001b[0m\n",
      "\u001b[1;31mAttributeError\u001b[0m: module 'numpy' has no attribute 'float128'"
     ]
    }
   ],
   "source": [
    "theta, cost_history = gradient_descent(X_train, y_train)\n",
    "y_predict = classify(X_test, theta)\n",
    "s = score(y_predict, y_test)\n",
    "print(s)\n",
    "# draw_result_binary(X_train, X_test, y_train, y_test, theta)"
   ]
  },
  {
   "cell_type": "code",
   "execution_count": null,
   "metadata": {},
   "outputs": [],
   "source": []
  }
 ],
 "metadata": {
  "colab": {
   "authorship_tag": "ABX9TyMg2WrqA/RKvqOD517obbhP",
   "collapsed_sections": [],
   "name": "LogisticRegression.ipynb",
   "provenance": []
  },
  "kernelspec": {
   "display_name": "Python 3",
   "language": "python",
   "name": "python3"
  },
  "language_info": {
   "codemirror_mode": {
    "name": "ipython",
    "version": 3
   },
   "file_extension": ".py",
   "mimetype": "text/x-python",
   "name": "python",
   "nbconvert_exporter": "python",
   "pygments_lexer": "ipython3",
   "version": "3.9.0"
  }
 },
 "nbformat": 4,
 "nbformat_minor": 4
}
